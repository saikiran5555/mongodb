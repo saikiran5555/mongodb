{
 "cells": [
  {
   "cell_type": "markdown",
   "id": "63243aad",
   "metadata": {},
   "source": [
    "To connect MongoDB to Python, you can use the `pymongo` library, which provides tools for interacting with MongoDB from Python. First, you need to install the `pymongo` library using pip:\n",
    "\n",
    "```bash\n",
    "pip install pymongo\n",
    "```\n",
    "\n",
    "Here's a Python code snippet that demonstrates how to connect to MongoDB, create a database, and create a collection within that database:\n",
    "\n",
    "```python\n",
    "import pymongo\n",
    "\n",
    "# Connect to the MongoDB server\n",
    "try:\n",
    "    client = pymongo.MongoClient(\"mongodb://localhost:27017/\")  # Replace with your MongoDB connection string\n",
    "    \n",
    "    # Check if connected\n",
    "    if client:\n",
    "        print(\"Connected to MongoDB\")\n",
    "\n",
    "        # Create or access a database\n",
    "        database_name = \"mydatabase\"\n",
    "        database = client[database_name]\n",
    "\n",
    "        # Create or access a collection within the database\n",
    "        collection_name = \"mycollection\"\n",
    "        collection = database[collection_name]\n",
    "\n",
    "        print(f\"Using database: {database_name}, collection: {collection_name}\")\n",
    "        \n",
    "        # Sample document to insert into the collection\n",
    "        sample_document = {\n",
    "            \"name\": \"John Doe\",\n",
    "            \"age\": 30,\n",
    "            \"city\": \"New York\"\n",
    "        }\n",
    "\n",
    "        # Insert the document into the collection\n",
    "        insert_result = collection.insert_one(sample_document)\n",
    "        print(\"Inserted document with ID:\", insert_result.inserted_id)\n",
    "\n",
    "except pymongo.errors.ConnectionError as e:\n",
    "    print(\"Connection error:\", e)\n",
    "```\n",
    "\n",
    "In this example:\n",
    "\n",
    "1. We import the `pymongo` library to connect and interact with MongoDB.\n",
    "2. We establish a connection to the MongoDB server using the connection string. Replace `\"mongodb://localhost:27017/\"` with your MongoDB connection string.\n",
    "3. We create or access a database named \"mydatabase\" using `client[database_name]`.\n",
    "4. We create or access a collection named \"mycollection\" within the \"mydatabase\" using `database[collection_name]`.\n",
    "5. We define a sample document and insert it into the collection using the `insert_one()` method.\n",
    "6. We print the ID of the inserted document."
   ]
  }
 ],
 "metadata": {
  "kernelspec": {
   "display_name": "Python 3 (ipykernel)",
   "language": "python",
   "name": "python3"
  },
  "language_info": {
   "codemirror_mode": {
    "name": "ipython",
    "version": 3
   },
   "file_extension": ".py",
   "mimetype": "text/x-python",
   "name": "python",
   "nbconvert_exporter": "python",
   "pygments_lexer": "ipython3",
   "version": "3.10.9"
  }
 },
 "nbformat": 4,
 "nbformat_minor": 5
}
