{
 "cells": [
  {
   "cell_type": "markdown",
   "id": "087ac551",
   "metadata": {},
   "source": [
    "In MongoDB, the `sort()` method is used to specify the sorting order of the documents returned by a query. It allows you to arrange the retrieved documents in ascending (1) or descending (-1) order based on one or more fields. The `sort()` method is often used in combination with the `find()` method to retrieve and order documents according to a specific criterion.\n",
    "\n",
    "**Syntax of the `sort()` method**:\n",
    "```python\n",
    "result = collection.find(query).sort(sort_key, sort_order)\n",
    "```\n",
    "\n",
    "- `query`: Specifies the filter criteria for selecting documents. It's an optional parameter.\n",
    "- `sort_key`: Specifies the field by which the documents should be sorted.\n",
    "- `sort_order`: Specifies the sorting order. Use `pymongo.ASCENDING` (1) for ascending and `pymongo.DESCENDING` (-1) for descending.\n",
    "\n",
    "**Example Code**:\n",
    "Suppose we have a collection named \"students\" in the \"mydatabase\" database, and we want to retrieve students sorted by age in descending order.\n",
    "\n",
    "```python\n",
    "import pymongo\n",
    "\n",
    "# Connect to the MongoDB server\n",
    "try:\n",
    "    client = pymongo.MongoClient(\"mongodb://localhost:27017/\")  # Replace with your MongoDB connection string\n",
    "    \n",
    "    # Check if connected\n",
    "    if client:\n",
    "        print(\"Connected to MongoDB\")\n",
    "\n",
    "        # Access the database and collection\n",
    "        database_name = \"mydatabase\"\n",
    "        database = client[database_name]\n",
    "        collection_name = \"students\"\n",
    "        collection = database[collection_name]\n",
    "\n",
    "        # Query and sort using the sort() method\n",
    "        query = {}  # Retrieve all students\n",
    "        sort_key = \"age\"  # Sort by the \"age\" field\n",
    "        sort_order = pymongo.DESCENDING  # Sort in descending order\n",
    "        result = collection.find(query).sort(sort_key, sort_order)\n",
    "\n",
    "        # Print the sorted documents\n",
    "        print(\"Sorted Documents:\")\n",
    "        for document in result:\n",
    "            print(document)\n",
    "\n",
    "except pymongo.errors.ConnectionError as e:\n",
    "    print(\"Connection error:\", e)\n",
    "```\n",
    "\n",
    "In this code:\n",
    "\n",
    "- We connect to the MongoDB server and access the \"mydatabase\" database and \"students\" collection.\n",
    "- We define an empty query to retrieve all students.\n",
    "- We specify the field \"age\" as the sort key and `pymongo.DESCENDING` as the sort order, which means sorting by age in descending order.\n",
    "- We use the `sort()` method in combination with the `find()` method to retrieve and sort documents based on the specified criteria.\n",
    "- We iterate through the cursor returned by `find()` and print the sorted documents.\n",
    "\n",
    "This code demonstrates how to use the `sort()` method to sort documents retrieved from a MongoDB collection based on a specific field and order. Remember to replace the connection string with your actual MongoDB connection details."
   ]
  }
 ],
 "metadata": {
  "kernelspec": {
   "display_name": "Python 3 (ipykernel)",
   "language": "python",
   "name": "python3"
  },
  "language_info": {
   "codemirror_mode": {
    "name": "ipython",
    "version": 3
   },
   "file_extension": ".py",
   "mimetype": "text/x-python",
   "name": "python",
   "nbconvert_exporter": "python",
   "pygments_lexer": "ipython3",
   "version": "3.10.9"
  }
 },
 "nbformat": 4,
 "nbformat_minor": 5
}
