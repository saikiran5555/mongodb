{
 "cells": [
  {
   "cell_type": "markdown",
   "id": "620e06b7",
   "metadata": {},
   "source": [
    "The `find()` method in MongoDB is used to query a collection and retrieve documents that match specified criteria. It returns a cursor that can be iterated to access the matched documents. The `find()` method supports a wide range of querying options using query operators.\n",
    "\n",
    "Here's a breakdown of how you can use the `find()` method and a simple code example to demonstrate its usage:\n",
    "\n",
    "**Basic Syntax of the `find()` method**:\n",
    "```python\n",
    "result = collection.find(query, projection)\n",
    "```\n",
    "\n",
    "- `query`: Specifies the filter criteria to select documents. It's an optional parameter. If not provided, it retrieves all documents.\n",
    "- `projection`: Specifies the fields to be included or excluded from the result. It's also an optional parameter.\n",
    "\n",
    "**Example Code**:\n",
    "Suppose we have a collection named \"students\" in the \"mydatabase\" database, and we want to retrieve students who are older than or equal to 20 years old.\n",
    "\n",
    "```python\n",
    "import pymongo\n",
    "\n",
    "# Connect to the MongoDB server\n",
    "try:\n",
    "    client = pymongo.MongoClient(\"mongodb://localhost:27017/\")  # Replace with your MongoDB connection string\n",
    "    \n",
    "    # Check if connected\n",
    "    if client:\n",
    "        print(\"Connected to MongoDB\")\n",
    "\n",
    "        # Access the database and collection\n",
    "        database_name = \"mydatabase\"\n",
    "        database = client[database_name]\n",
    "        collection_name = \"students\"\n",
    "        collection = database[collection_name]\n",
    "\n",
    "        # Query using the find() method\n",
    "        query = {\"age\": {\"$gte\": 20}}  # Retrieve students older than or equal to 20\n",
    "        projection = {\"_id\": 0, \"name\": 1, \"age\": 1}  # Include only name and age fields\n",
    "        result = collection.find(query, projection)\n",
    "\n",
    "        # Print the matched documents\n",
    "        print(\"Matched Documents:\")\n",
    "        for document in result:\n",
    "            print(document)\n",
    "\n",
    "except pymongo.errors.ConnectionError as e:\n",
    "    print(\"Connection error:\", e)\n",
    "```\n",
    "\n",
    "In this code:\n",
    "\n",
    "- We connect to the MongoDB server and access the \"mydatabase\" database and \"students\" collection.\n",
    "- We define a query to retrieve students older than or equal to 20 years old using the `$gte` (greater than or equal) operator.\n",
    "- We use the `projection` parameter to specify which fields to include (name and age) and exclude (`_id`) in the result.\n",
    "- We use the `find()` method to retrieve documents that match the query criteria.\n",
    "- We iterate through the cursor returned by `find()` and print the matched documents.\n",
    "\n",
    "This code demonstrates how to use the `find()` method to query a MongoDB collection and retrieve documents that meet specific criteria. Remember to replace the connection string with your actual MongoDB connection details."
   ]
  }
 ],
 "metadata": {
  "kernelspec": {
   "display_name": "Python 3 (ipykernel)",
   "language": "python",
   "name": "python3"
  },
  "language_info": {
   "codemirror_mode": {
    "name": "ipython",
    "version": 3
   },
   "file_extension": ".py",
   "mimetype": "text/x-python",
   "name": "python",
   "nbconvert_exporter": "python",
   "pygments_lexer": "ipython3",
   "version": "3.10.9"
  }
 },
 "nbformat": 4,
 "nbformat_minor": 5
}
